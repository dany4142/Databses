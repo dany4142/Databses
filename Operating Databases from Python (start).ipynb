{
 "cells": [
  {
   "cell_type": "markdown",
   "metadata": {},
   "source": [
    "### We fetch data from text file based on the email dump which puts it into a table of Count with Text and count being the integer. The goal is to finalize the top sender of the email in the dump and store it in a clean formate in sqlite3 to be retireved later. "
   ]
  },
  {
   "cell_type": "code",
   "execution_count": 2,
   "metadata": {},
   "outputs": [],
   "source": [
    "import sqlite3\n",
    "\n",
    "conn = sqlite3.connect('emaildb.sqlite')\n",
    "curr = conn.cursor()"
   ]
  },
  {
   "cell_type": "code",
   "execution_count": 3,
   "metadata": {},
   "outputs": [
    {
     "name": "stdout",
     "output_type": "stream",
     "text": [
      "Enter Your File Here: \n",
      "zqian@umich.edu 4\n",
      "wagnermr@iupui.edu 1\n",
      "stephen.marquard@uct.ac.za 2\n",
      "rjlowe@iupui.edu 2\n",
      "ray@media.berkeley.edu 1\n",
      "louis@media.berkeley.edu 3\n",
      "gsilver@umich.edu 3\n",
      "gopal.ramasammycook@gmail.com 1\n",
      "david.horwitz@uct.ac.za 4\n",
      "cwen@iupui.edu 5\n"
     ]
    }
   ],
   "source": [
    "curr.execute('''DROP TABLE IF EXISTS Counts''')\n",
    "curr.execute(''' CREATE TABLE Counts (email TEXT, count INTEGER)''')\n",
    "\n",
    "fname= input('Enter Your File Here: ')\n",
    "if(len(fname)<1): fname='mbox-short.txt'\n",
    "name = open(fname)\n",
    "for line in name: \n",
    "    if not line.startswith('From: '): continue\n",
    "    pieces = line.split()\n",
    "    email = pieces[1]\n",
    "    curr.execute('SELECT count from Counts where email= ?', (email, ))\n",
    "    row = curr.fetchone()\n",
    "    if row is None: \n",
    "        curr.execute(''' INSERT INTO Counts (email,count) VALUES (?, 1)''', (email, ))\n",
    "    else: \n",
    "        curr.execute('UPDATE Counts SET count = count+1 WHERE email=?', (email,))\n",
    "    conn.commit()\n",
    "        \n",
    "sqlstr = 'SELECT email, count FROM Counts ORDER BY email DESC LIMIT 10'\n",
    "\n",
    "for row in curr.execute(sqlstr):\n",
    "    print(str(row[0]), row[1])\n",
    "    \n",
    "curr.close()\n"
   ]
  }
 ],
 "metadata": {
  "kernelspec": {
   "display_name": "Python 3",
   "language": "python",
   "name": "python3"
  },
  "language_info": {
   "codemirror_mode": {
    "name": "ipython",
    "version": 3
   },
   "file_extension": ".py",
   "mimetype": "text/x-python",
   "name": "python",
   "nbconvert_exporter": "python",
   "pygments_lexer": "ipython3",
   "version": "3.7.4"
  }
 },
 "nbformat": 4,
 "nbformat_minor": 2
}
